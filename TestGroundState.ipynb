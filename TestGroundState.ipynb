{
 "cells": [
  {
   "cell_type": "markdown",
   "metadata": {},
   "source": [
    "# TestGroundState"
   ]
  },
  {
   "cell_type": "markdown",
   "metadata": {},
   "source": [
    "This notebook a) provides tests to ensure the methods of wavefunctiontools.py are correct, b)demonstrates how those methods can be used to generate output for the GAN, and c) to demonstrates how they can be used to validate the GAN."
   ]
  },
  {
   "cell_type": "code",
   "execution_count": 5,
   "metadata": {
    "scrolled": true
   },
   "outputs": [],
   "source": [
    "from __future__  import print_function\n",
    "import numpy as np\n",
    "import wavefunctiontools\n",
    "import pylab\n",
    "import matplotlib.pyplot as plt\n",
    "import numpy.linalg as npla\n",
    "%matplotlib inline\n",
    "%load_ext autoreload\n",
    "%autoreload 2\n",
    "pylab.rcParams['figure.figsize']=(9,7)\n",
    "pylab.rcParams['font.size']=12"
   ]
  },
  {
   "cell_type": "markdown",
   "metadata": {},
   "source": [
    "## Test 1: Check the sparse multiplication"
   ]
  },
  {
   "cell_type": "markdown",
   "metadata": {},
   "source": [
    "This test creates random matrices of the form $\\mathbf{C} = \\mathbf{A}_1 \\otimes \\mathbf{A}_2 \\otimes \\ldots \\otimes \\mathbf{A}_N$, converts them to $\\texttt{OperatorChain}$, and multiplies them by a random vector $\\mathbf{v}$. It then ensures that $\\mathbf{C}\\mathbf{v}$ gives the same result whether the sparse ($\\texttt{OperatorChain.timesvectorsparse}$) or dense ($\\texttt{OperatorChain.timesvectordense}$) methods are used. It also tests against dense multiplication using np.array."
   ]
  },
  {
   "cell_type": "code",
   "execution_count": 6,
   "metadata": {
    "scrolled": true
   },
   "outputs": [
    {
     "name": "stdout",
     "output_type": "stream",
     "text": [
      "***************************************************************\n",
      "N= 2 d= 2\n",
      "Sparse vs dense OperatorChains: \n",
      "err:  1.442222014787673e-16\n",
      "Passed!\n",
      "Dense OperatorChain vs np.array: \n",
      "err:  0.0\n",
      "Passed!\n",
      "***************************************************************\n",
      "***************************************************************\n",
      "N= 2 d= 3\n",
      "Sparse vs dense OperatorChains: \n",
      "err:  1.149764460151469e-15\n",
      "Passed!\n",
      "Dense OperatorChain vs np.array: \n",
      "err:  0.0\n",
      "Passed!\n",
      "***************************************************************\n",
      "***************************************************************\n",
      "N= 3 d= 2\n",
      "Sparse vs dense OperatorChains: \n",
      "err:  8.820859921416068e-16\n",
      "Passed!\n",
      "Dense OperatorChain vs np.array: \n",
      "err:  0.0\n",
      "Passed!\n",
      "***************************************************************\n",
      "***************************************************************\n",
      "N= 3 d= 3\n",
      "Sparse vs dense OperatorChains: \n",
      "err:  3.258178302896031e-15\n",
      "Passed!\n",
      "Dense OperatorChain vs np.array: \n",
      "err:  0.0\n",
      "Passed!\n",
      "***************************************************************\n",
      "***************************************************************\n",
      "N= 4 d= 2\n",
      "Sparse vs dense OperatorChains: \n",
      "err:  4.594365265244387e-16\n",
      "Passed!\n",
      "Dense OperatorChain vs np.array: \n",
      "err:  0.0\n",
      "Passed!\n",
      "***************************************************************\n",
      "***************************************************************\n",
      "N= 4 d= 3\n",
      "Sparse vs dense OperatorChains: \n",
      "err:  8.268055329476156e-15\n",
      "Passed!\n",
      "Dense OperatorChain vs np.array: \n",
      "err:  0.0\n",
      "Passed!\n",
      "***************************************************************\n",
      "***************************************************************\n",
      "N= 5 d= 2\n",
      "Sparse vs dense OperatorChains: \n",
      "err:  9.215937855013842e-16\n",
      "Passed!\n",
      "Dense OperatorChain vs np.array: \n",
      "err:  0.0\n",
      "Passed!\n",
      "***************************************************************\n",
      "***************************************************************\n",
      "N= 5 d= 3\n",
      "Sparse vs dense OperatorChains: \n",
      "err:  2.7917879713898785e-14\n",
      "Passed!\n",
      "Dense OperatorChain vs np.array: \n",
      "err:  0.0\n",
      "Passed!\n",
      "***************************************************************\n",
      "***************************************************************\n",
      "N= 6 d= 2\n",
      "Sparse vs dense OperatorChains: \n",
      "err:  5.9822924384886135e-15\n",
      "Passed!\n",
      "Dense OperatorChain vs np.array: \n",
      "err:  0.0\n",
      "Passed!\n",
      "***************************************************************\n",
      "***************************************************************\n",
      "N= 6 d= 3\n",
      "Sparse vs dense OperatorChains: \n",
      "err:  1.508240953024245e-13\n",
      "Passed!\n",
      "Dense OperatorChain vs np.array: \n",
      "err:  0.0\n",
      "Passed!\n",
      "***************************************************************\n",
      "***************************************************************\n",
      "N= 7 d= 2\n",
      "Sparse vs dense OperatorChains: \n",
      "err:  1.1269440905387242e-14\n",
      "Passed!\n",
      "Dense OperatorChain vs np.array: \n",
      "err:  0.0\n",
      "Passed!\n",
      "***************************************************************\n",
      "***************************************************************\n",
      "N= 7 d= 3\n",
      "Sparse vs dense OperatorChains: \n",
      "err:  5.298444735202728e-13\n",
      "Passed!\n",
      "Dense OperatorChain vs np.array: \n",
      "err:  0.0\n",
      "Passed!\n",
      "***************************************************************\n",
      "***************************************************************\n",
      "N= 8 d= 2\n",
      "Sparse vs dense OperatorChains: \n",
      "err:  8.868067256507716e-15\n",
      "Passed!\n",
      "Dense OperatorChain vs np.array: \n",
      "err:  0.0\n",
      "Passed!\n",
      "***************************************************************\n",
      "***************************************************************\n",
      "N= 8 d= 3\n",
      "Sparse vs dense OperatorChains: \n",
      "err:  5.833068517413834e-13\n",
      "Passed!\n",
      "Dense OperatorChain vs np.array: \n",
      "err:  0.0\n",
      "Passed!\n",
      "***************************************************************\n"
     ]
    }
   ],
   "source": [
    "for N in range(2, 9):\n",
    "    for d in [2, 3]:\n",
    "        print (\"***************************************************************\")\n",
    "        print (\"N=\", N, \"d=\", d)\n",
    "        wavefunctiontools.testchaintimesvector(N, d=d, Ntimes=30)\n",
    "        print (\"***************************************************************\")\n"
   ]
  },
  {
   "cell_type": "markdown",
   "metadata": {},
   "source": [
    "## Test 2: Constructing the dense Hamiltonian"
   ]
  },
  {
   "cell_type": "markdown",
   "metadata": {},
   "source": [
    "Tests that $\\texttt{NNHamiltonianDense}$ generates the correct matrix in the 1D case (with either $Nx=1$ or $Ny=1$), by comparing the results with a function that does not account for the 2D case. "
   ]
  },
  {
   "cell_type": "code",
   "execution_count": 7,
   "metadata": {
    "scrolled": true
   },
   "outputs": [
    {
     "name": "stdout",
     "output_type": "stream",
     "text": [
      "***************************************************************\n",
      "N= 2 d= 2\n",
      "Nx=1 : \n",
      "err:  1.3597399555105182e-16\n",
      "Passed!\n",
      "Ny=1 :\n",
      "err:  2.7216921296501185e-16\n",
      "Passed!\n",
      "Nx vs Ny: \n",
      "err:  0.0\n",
      "Passed!\n",
      "***************************************************************\n",
      "***************************************************************\n",
      "N= 2 d= 3\n",
      "Nx=1 : \n",
      "err:  4.3177542613803837e-16\n",
      "Passed!\n",
      "Ny=1 :\n",
      "err:  4.530319284883143e-16\n",
      "Passed!\n",
      "Nx vs Ny: \n",
      "err:  0.0\n",
      "Passed!\n",
      "***************************************************************\n",
      "***************************************************************\n",
      "N= 3 d= 2\n",
      "Nx=1 : \n",
      "err:  4.708360369185041e-16\n",
      "Passed!\n",
      "Ny=1 :\n",
      "err:  6.797283234193631e-16\n",
      "Passed!\n",
      "Nx vs Ny: \n",
      "err:  0.0\n",
      "Passed!\n",
      "***************************************************************\n",
      "***************************************************************\n",
      "N= 3 d= 3\n",
      "Nx=1 : \n",
      "err:  4.872072101741999e-16\n",
      "Passed!\n",
      "Ny=1 :\n",
      "err:  1.1333680119596515e-15\n",
      "Passed!\n",
      "Nx vs Ny: \n",
      "err:  0.0\n",
      "Passed!\n",
      "***************************************************************\n",
      "***************************************************************\n",
      "N= 4 d= 2\n",
      "Nx=1 : \n",
      "err:  8.944711816658396e-16\n",
      "Passed!\n",
      "Ny=1 :\n",
      "err:  5.488666174528737e-16\n",
      "Passed!\n",
      "Nx vs Ny: \n",
      "err:  0.0\n",
      "Passed!\n",
      "***************************************************************\n",
      "***************************************************************\n",
      "N= 4 d= 3\n",
      "Nx=1 : \n",
      "err:  2.3119328222632036e-15\n",
      "Passed!\n",
      "Ny=1 :\n",
      "err:  2.076040058873378e-15\n",
      "Passed!\n",
      "Nx vs Ny: \n",
      "err:  0.0\n",
      "Passed!\n",
      "***************************************************************\n",
      "***************************************************************\n",
      "N= 5 d= 2\n",
      "Nx=1 : \n",
      "err:  9.121148983141737e-16\n",
      "Passed!\n",
      "Ny=1 :\n",
      "err:  4.1083291676937984e-16\n",
      "Passed!\n",
      "Nx vs Ny: \n",
      "err:  0.0\n",
      "Passed!\n",
      "***************************************************************\n",
      "***************************************************************\n",
      "N= 5 d= 3\n",
      "Nx=1 : \n",
      "err:  3.5438918893331736e-15\n",
      "Passed!\n",
      "Ny=1 :\n",
      "err:  3.584593571020762e-15\n",
      "Passed!\n",
      "Nx vs Ny: \n",
      "err:  0.0\n",
      "Passed!\n",
      "***************************************************************\n",
      "***************************************************************\n",
      "N= 6 d= 2\n",
      "Nx=1 : \n",
      "err:  8.292994308924434e-16\n",
      "Passed!\n",
      "Ny=1 :\n",
      "err:  3.6523637779941596e-15\n",
      "Passed!\n",
      "Nx vs Ny: \n",
      "err:  0.0\n",
      "Passed!\n",
      "***************************************************************\n",
      "***************************************************************\n",
      "N= 6 d= 3\n",
      "Nx=1 : \n",
      "err:  2.1293591553643836e-15\n",
      "Passed!\n",
      "Ny=1 :\n",
      "err:  7.032610264240454e-15\n",
      "Passed!\n",
      "Nx vs Ny: \n",
      "err:  0.0\n",
      "Passed!\n",
      "***************************************************************\n"
     ]
    }
   ],
   "source": [
    "for N in range(2, 7):\n",
    "    for d in [2, 3]:\n",
    "        print (\"***************************************************************\")\n",
    "        print (\"N=\", N, \"d=\", d)\n",
    "        wavefunctiontools.testdensehamiltonianconstruction(N, d=d, Ntimes=30, Nops=2)\n",
    "        print (\"***************************************************************\")\n"
   ]
  },
  {
   "cell_type": "markdown",
   "metadata": {},
   "source": [
    "## Test 3: Comparing the dense and sparse Hamiltonians"
   ]
  },
  {
   "cell_type": "markdown",
   "metadata": {},
   "source": [
    "This ensures that $\\mathtt{NNHamiltonianDense}$ and $\\mathtt{NNHamiltonianSparse}$ behave identically; e.g. that $\\mathtt{matvec}$ and $\\mathtt{eigs}$ give the same results. In addition, test that converting the sparse to the dense representation yields the same matrix as constructing the dense representation in the first place."
   ]
  },
  {
   "cell_type": "code",
   "execution_count": 8,
   "metadata": {},
   "outputs": [
    {
     "name": "stdout",
     "output_type": "stream",
     "text": [
      "Nx, Ny: 2 2\n",
      "err(H):  2.1591299999946567e-15\n",
      "err(H*vec):  1.6135950460368481e-15\n",
      "err(eigvals):  7.354371998807198e-13\n",
      "Nx, Ny: 2 3\n",
      "err(H):  6.874564442324431e-15\n",
      "err(H*vec):  5.904374704051584e-15\n",
      "err(eigvals):  3.654712079454019e-12\n",
      "Nx, Ny: 3 2\n",
      "err(H):  8.624232941068877e-15\n",
      "err(H*vec):  6.348391558772123e-15\n",
      "err(eigvals):  4.574741793669312e-12\n",
      "Nx, Ny: 3 3\n",
      "err(H):  4.1993665159988214e-14\n",
      "err(H*vec):  2.8092581493204445e-14\n",
      "err(eigvals):  8.033972257789764e-12\n"
     ]
    }
   ],
   "source": [
    "for Nx in range(2, 4):\n",
    "    for Ny in range(2, 4):\n",
    "        print (\"Nx, Ny:\", Nx, Ny)\n",
    "        wavefunctiontools.checksparsedense(Nx, Ny, Ntimes=10)"
   ]
  },
  {
   "cell_type": "markdown",
   "metadata": {},
   "source": [
    "## Test 4: Check against some hand-built matrices"
   ]
  },
  {
   "cell_type": "markdown",
   "metadata": {},
   "source": [
    "For $H = c\\sum_{<ij>} A_iB_j$ on a 2x2 grid we should get $c$ times a sum of 8 terms: $ABII, AIBI, BAII, IAIB, IIAB, BIAA, IBIA, IIBA$. This test explicitly sums $Nops$ of such terms (for random c, A, B) and makes sure the resulting matrix is the same as that within $\\mathtt{NNHamiltonianDense}$. In addition, it checks that matvec and eigs give the same results as directly operating on that sum. It then performs the analogous test for a 3x3 grid."
   ]
  },
  {
   "cell_type": "code",
   "execution_count": 9,
   "metadata": {},
   "outputs": [
    {
     "name": "stdout",
     "output_type": "stream",
     "text": [
      "d=2\n",
      "N= 2\n",
      "err(H):  9.98308739512973e-15\n",
      "err(H*vec):  1.1593893569530624e-14\n",
      "err(eigvals):  3.7960461413365174e-14\n",
      "N= 3\n",
      "err(H):  9.942313250764364e-14\n",
      "err(H*vec):  9.879192305876315e-14\n",
      "err(eigvals):  2.6722831912472494e-13\n"
     ]
    }
   ],
   "source": [
    "print (\"d=2\")\n",
    "wavefunctiontools.checkhandbuilt(d=2, Ntimes=10, Nops=2)\n",
    "#print \"d=3\"\n",
    "#wavefunctiontools.checkhandbuilt(d=3, Ntimes=5, Nops=2)"
   ]
  },
  {
   "cell_type": "markdown",
   "metadata": {},
   "source": [
    "## Test 5: Check the Ising model"
   ]
  },
  {
   "cell_type": "markdown",
   "metadata": {},
   "source": [
    "This generates Ising models for various values of $J$ and $h$ and repeats test 3 on the results."
   ]
  },
  {
   "cell_type": "code",
   "execution_count": 10,
   "metadata": {},
   "outputs": [
    {
     "name": "stdout",
     "output_type": "stream",
     "text": [
      "Nx, Ny: 2 2\n",
      "err(H):  0.0\n",
      "err(H*vec):  3.9449185033218516e-14\n",
      "err(eigvals):  3.551825500380801e-12\n",
      "Nx, Ny: 2 3\n",
      "err(H):  0.0\n",
      "err(H*vec):  1.2683365725411352e-13\n",
      "err(eigvals):  2.1081802970002173e-11\n",
      "Nx, Ny: 3 2\n",
      "err(H):  0.0\n",
      "err(H*vec):  1.3086459085422337e-13\n",
      "err(eigvals):  1.4878764886816498e-11\n",
      "Nx, Ny: 3 3\n",
      "err(H):  0.0\n",
      "err(H*vec):  5.127479923964848e-13\n",
      "err(eigvals):  1.198152688175469e-11\n"
     ]
    }
   ],
   "source": [
    "for Nx in range(2, 4):\n",
    "    for Ny in range(2, 4):\n",
    "        print (\"Nx, Ny:\", Nx, Ny)\n",
    "        wavefunctiontools.checkIsing(Nx, Ny, Ntimes=1)"
   ]
  },
  {
   "cell_type": "markdown",
   "metadata": {},
   "source": [
    "Make sure the correct energy is reported for h=0 and J=0"
   ]
  },
  {
   "cell_type": "code",
   "execution_count": 12,
   "metadata": {},
   "outputs": [
    {
     "name": "stdout",
     "output_type": "stream",
     "text": [
      "Nx, Ny= 1 2\n",
      "err (h=0):  [1.42108547e-14]\n",
      "err (J=0):  [1.42108547e-14]\n",
      "Nx, Ny= 1 3\n",
      "err (h=0):  [0.]\n",
      "err (J=0):  [1.9095836e-14]\n",
      "Nx, Ny= 2 2\n",
      "err (h=0):  [4.26325641e-14]\n",
      "err (J=0):  [0.]\n",
      "Nx, Ny= 2 3\n",
      "err (h=0):  [2.27373675e-13]\n",
      "err (J=0):  [1.5187851e-13]\n",
      "Nx, Ny= 3 2\n",
      "err (h=0):  [3.41060513e-13]\n",
      "err (J=0):  [1.9095836e-14]\n",
      "Nx, Ny= 3 3\n",
      "err (h=0):  [1.64313008e-13]\n",
      "err (J=0):  [8.8817842e-14]\n"
     ]
    }
   ],
   "source": [
    "for Nx in range(1, 4):\n",
    "    for Ny in range(2, 4):\n",
    "        print (\"Nx, Ny=\", Nx, Ny)\n",
    "        wavefunctiontools.IsingTest(Nx, Ny)"
   ]
  },
  {
   "cell_type": "markdown",
   "metadata": {},
   "source": [
    "# Check the SpinChainWavefunction stuff\n"
   ]
  },
  {
   "cell_type": "markdown",
   "metadata": {},
   "source": [
    "### Make $|00\\rangle$"
   ]
  },
  {
   "cell_type": "code",
   "execution_count": 13,
   "metadata": {},
   "outputs": [
    {
     "name": "stdout",
     "output_type": "stream",
     "text": [
      "[1.+0.j 0.+0.j 0.+0.j 0.+0.j]\n",
      "2\n",
      "1\n"
     ]
    }
   ],
   "source": [
    "ket0 = np.array([1.+0.j, 0])\n",
    "ket1 = np.array([0, 1.+0.j])\n",
    "amps = np.kron(ket0, ket0)\n",
    "wf00 = wavefunctiontools.SpinChainWavefunction(amps, 2, 1)\n",
    "\n",
    "X = wavefunctiontools.Sig_x\n",
    "Y = wavefunctiontools.Sig_y\n",
    "Z = wavefunctiontools.Sig_z\n",
    "print (wf00.wf)\n",
    "print (wf00.Nx)\n",
    "print (wf00.Ny)"
   ]
  },
  {
   "cell_type": "markdown",
   "metadata": {},
   "source": [
    "### Check Pauli gates work"
   ]
  },
  {
   "cell_type": "code",
   "execution_count": 14,
   "metadata": {},
   "outputs": [
    {
     "name": "stdout",
     "output_type": "stream",
     "text": [
      "IX:  [0.+0.j 1.+0.j 0.+0.j 0.+0.j]\n",
      "should be |01> =  [0.+0.j 1.+0.j 0.+0.j 0.+0.j]\n",
      "True\n",
      "XI:  [0.+0.j 0.+0.j 1.+0.j 0.+0.j]\n",
      "should be |10> =  [0.+0.j 0.+0.j 1.+0.j 0.+0.j]\n",
      "True\n",
      "XX:  [0.+0.j 0.+0.j 0.+0.j 1.+0.j]\n",
      "should be |11> =  [0.+0.j 0.+0.j 0.+0.j 1.+0.j]\n",
      "True\n"
     ]
    }
   ],
   "source": [
    "wfIX = wf00.applygate(1, X)\n",
    "ix = np.kron(ket0, ket1)\n",
    "print (\"IX: \", wfIX.wf)\n",
    "print (\"should be |01> = \", ix )\n",
    "print  (0==np.count_nonzero(wfIX.wf-ix))\n",
    "\n",
    "wfXI = wf00.applygate(0, X)\n",
    "xi = np.kron(ket1, ket0)\n",
    "print (\"XI: \", wfXI.wf)\n",
    "print (\"should be |10> = \", xi)\n",
    "print (0==np.count_nonzero(wfXI.wf-xi))\n",
    "\n",
    "wfXX = wf00.applychain(wavefunctiontools.OperatorChain([X,X]))\n",
    "xx = np.kron(ket1, ket1)\n",
    "print (\"XX: \", wfXX.wf)\n",
    "print (\"should be |11> = \", np.kron(ket1, ket1))\n",
    "print (0==np.count_nonzero(wfXX.wf-xx))\n"
   ]
  },
  {
   "cell_type": "markdown",
   "metadata": {},
   "source": [
    "### Overlap of $|00>$ with $\\frac{1}{\\sqrt{2}}(|00> - |11>)$ should be $\\frac{1}{\\sqrt{2}}$"
   ]
  },
  {
   "cell_type": "code",
   "execution_count": 15,
   "metadata": {},
   "outputs": [
    {
     "name": "stdout",
     "output_type": "stream",
     "text": [
      "(1+0j)\n"
     ]
    }
   ],
   "source": [
    "amps2 = 1./(np.sqrt(2)) * (amps - xx)\n",
    "wfbell = wavefunctiontools.SpinChainWavefunction(amps2, 2, 1)\n",
    "print (wfbell.overlap(wf00)*np.sqrt(2))"
   ]
  },
  {
   "cell_type": "code",
   "execution_count": 16,
   "metadata": {},
   "outputs": [
    {
     "name": "stdout",
     "output_type": "stream",
     "text": [
      "0.0\n",
      "1.0\n",
      "-1.0\n",
      "1.0\n",
      "-1.0\n",
      "1.0\n"
     ]
    }
   ],
   "source": [
    "print (wfbell.expectationvalue(1, Z)) #0\n",
    "print (wf00.expectationvalue(1,Z)) #1\n",
    "print (wfXX.expectationvalue(1,Z) )#-1\n",
    "print (wfIX.expectationvalue(0,Z)) #1\n",
    "print (wfXI.expectationvalue(0,Z) )#-1\n",
    "print (wfXX.expectationvaluechain(wavefunctiontools.OperatorChain([Z,Z]))) #1"
   ]
  },
  {
   "cell_type": "code",
   "execution_count": 17,
   "metadata": {},
   "outputs": [
    {
     "name": "stdout",
     "output_type": "stream",
     "text": [
      "[0.+0.j 0.+0.j 0.+0.j 1.+0.j]\n",
      "1\n",
      "[0.+0.j 0.-1.j 0.+0.j 0.+0.j]\n"
     ]
    }
   ],
   "source": [
    "print (wfXX.wf)\n",
    "outcome, measured = wfXX.measure(0, basis='Y')\n",
    "print (outcome)\n",
    "print (measured.wf)"
   ]
  },
  {
   "cell_type": "code",
   "execution_count": 18,
   "metadata": {},
   "outputs": [
    {
     "name": "stdout",
     "output_type": "stream",
     "text": [
      "['z', 'z']\n"
     ]
    }
   ],
   "source": [
    "print (list('zz'))"
   ]
  },
  {
   "cell_type": "markdown",
   "metadata": {},
   "source": [
    "### \"Cascaded\" measurements, one basis at each site."
   ]
  },
  {
   "cell_type": "code",
   "execution_count": 19,
   "metadata": {},
   "outputs": [
    {
     "name": "stdout",
     "output_type": "stream",
     "text": [
      "[0.18257419+0.j 0.36514837+0.j 0.54772256+0.j 0.73029674+0.j]\n",
      "[[-1 -1]]\n",
      "[[-1  1]]\n",
      "[[1 1]]\n",
      "[[1 1]]\n",
      "[[1 1]]\n",
      "[[-1  1]]\n"
     ]
    }
   ],
   "source": [
    "testarr = np.arange(1, 5, dtype=np.complex128)\n",
    "testwf = wavefunctiontools.SpinChainWavefunction(testarr, 2, 1).normalize()\n",
    "print (testwf.wf)\n",
    "print (testwf.cascadedmeasurement('ZZ'))\n",
    "print (wfbell.cascadedmeasurement('XX')) #antialigned\n",
    "print (wfbell.cascadedmeasurement('YY')) #aligned\n",
    "print (wfbell.cascadedmeasurement('ZZ')) #aligned\n",
    "print (wfbell.cascadedmeasurement('XY')) #aligned\n",
    "print (wfbell.cascadedmeasurement('YZ')) #aligned"
   ]
  },
  {
   "cell_type": "markdown",
   "metadata": {},
   "source": [
    "### Check that correct probabilities are recovered in computational basis\n"
   ]
  },
  {
   "cell_type": "code",
   "execution_count": 20,
   "metadata": {},
   "outputs": [],
   "source": [
    "def prob2d(wf, Ntimes=1000):\n",
    "    dd = 0.\n",
    "    du = 0.\n",
    "    ud = 0.\n",
    "    uu = 0.\n",
    "    for _ in range(0, Ntimes):\n",
    "        outcome = list(wf.cascadedmeasurement(\"ZZ\")[0])\n",
    "        if outcome == [-1, -1]:\n",
    "            dd += 1.\n",
    "        elif outcome == [-1, 1]:\n",
    "            du += 1.\n",
    "        elif outcome == [1, -1]:\n",
    "            ud += 1.\n",
    "        elif outcome == [1, 1]:\n",
    "            uu += 1.\n",
    "    dd /= Ntimes\n",
    "    du /= Ntimes\n",
    "    ud /= Ntimes\n",
    "    uu /= Ntimes\n",
    "    return uu, ud, du, dd    "
   ]
  },
  {
   "cell_type": "code",
   "execution_count": 21,
   "metadata": {},
   "outputs": [
    {
     "name": "stdout",
     "output_type": "stream",
     "text": [
      "Correct:  [0.03333333 0.13333333 0.3        0.53333333]\n",
      "10 measurements: \n",
      "(0.0, 0.0, 0.3, 0.7)\n",
      "100 measurements: \n",
      "(0.05, 0.13, 0.34, 0.48)\n",
      "1000 measurements: \n",
      "(0.03, 0.137, 0.323, 0.51)\n",
      "10000 measurements: \n",
      "(0.0329, 0.1257, 0.3016, 0.5398)\n"
     ]
    }
   ],
   "source": [
    "probs = (np.conj(testwf.wf)*testwf.wf).real\n",
    "print (\"Correct: \", probs)\n",
    "print (\"10 measurements: \")\n",
    "print (prob2d(testwf, Ntimes=10))\n",
    "print (\"100 measurements: \")\n",
    "print (prob2d(testwf, Ntimes=100))\n",
    "print (\"1000 measurements: \")\n",
    "print (prob2d(testwf, Ntimes=1000))\n",
    "print (\"10000 measurements: \")\n",
    "print (prob2d(testwf, Ntimes=10000))\n"
   ]
  },
  {
   "cell_type": "markdown",
   "metadata": {},
   "source": [
    "### Directional measurements representing local detectors aligned along arbitrary angles."
   ]
  },
  {
   "cell_type": "code",
   "execution_count": 22,
   "metadata": {},
   "outputs": [
    {
     "data": {
      "text/plain": [
       "array([[-1, -1]])"
      ]
     },
     "execution_count": 22,
     "metadata": {},
     "output_type": "execute_result"
    }
   ],
   "source": [
    "dir0 = (0.,0.,1.)\n",
    "dir1 = (0.25, 0.5, 1.)\n",
    "wfbell.cascadedmeasurement([dir0, dir1], directional=True)"
   ]
  },
  {
   "cell_type": "markdown",
   "metadata": {},
   "source": [
    "### Simulate Bell experiment"
   ]
  },
  {
   "cell_type": "code",
   "execution_count": 23,
   "metadata": {},
   "outputs": [],
   "source": [
    "def bellexperiment(wf, Ntrials, Nangles=100):\n",
    "    dir0 = (0., 0., 1.)\n",
    "    angles = np.linspace(0., 2*np.pi)\n",
    "    dir2s = [(0., np.sin(ang), np.cos(ang)) for ang in angles]\n",
    "    results = np.zeros(angles.shape)\n",
    "    tocorr = lambda x: np.abs(x[0]+x[1])-1\n",
    "    for _ in range(0, Ntrials):\n",
    "        outcomes =[wf.cascadedmeasurement([dir0, dir2], directional=True)[0] \n",
    "                    for dir2 in dir2s]\n",
    "        results += [tocorr(o) for o in outcomes]\n",
    "    results /= Ntrials\n",
    "    return angles, results\n",
    "   "
   ]
  },
  {
   "cell_type": "code",
   "execution_count": 24,
   "metadata": {},
   "outputs": [],
   "source": [
    "trials = [10, 100, 1000]\n",
    "outcomes = [bellexperiment(wfbell, trial) for trial in trials]"
   ]
  },
  {
   "cell_type": "code",
   "execution_count": 25,
   "metadata": {},
   "outputs": [
    {
     "data": {
      "text/plain": [
       "<matplotlib.legend.Legend at 0x7fe45ff28c10>"
      ]
     },
     "execution_count": 25,
     "metadata": {},
     "output_type": "execute_result"
    },
    {
     "data": {
      "image/png": "[encoded data removed]",
      "text/plain": [
       "<Figure size 432x288 with 1 Axes>"
      ]
     },
     "metadata": {},
     "output_type": "display_data"
    }
   ],
   "source": [
    "plt.plot(outcomes[0][0] / np.pi, outcomes[0][1], label=\"10 runs\")\n",
    "plt.plot(outcomes[1][0] / np.pi, outcomes[1][1], label=\"100 runs\")\n",
    "plt.plot(outcomes[2][0] / np.pi, outcomes[2][1], label=\"1000 runs\")\n",
    "plt.xlabel(\"Detector angle / pi\")\n",
    "plt.ylabel(\"Correlation\")\n",
    "plt.legend(loc=\"lower left\")"
   ]
  },
  {
   "cell_type": "markdown",
   "metadata": {},
   "source": [
    "# Generating basis measurements"
   ]
  },
  {
   "cell_type": "markdown",
   "metadata": {},
   "source": [
    "### Note: with h=0.0, the ground state is highly degenerate (no spin direction is favoured so long as all spins are aligned). The iterative solver randomly picks out one of these degenerate states. Therefore, the expectation values, but not the energies, reported in the cell following this one will change from run to run."
   ]
  },
  {
   "cell_type": "code",
   "execution_count": 26,
   "metadata": {},
   "outputs": [
    {
     "name": "stdout",
     "output_type": "stream",
     "text": [
      "[-6.]\n",
      "Z:  0.09559688014225315\n",
      "X:  1.0000000000000002\n",
      "Y:  -0.09559688014225314\n"
     ]
    }
   ],
   "source": [
    "Eisingsm, wfisingsm = wavefunctiontools.makeisingground(1, 6, 1.0, 0.0)\n",
    "print (Eisingsm)\n",
    "allZs6 = wavefunctiontools.OperatorChain([Z]*6)\n",
    "allXs6 = wavefunctiontools.OperatorChain([X]*6)\n",
    "allYs6 = wavefunctiontools.OperatorChain([Y]*6)\n",
    "print (\"Z: \", wfisingsm.expectationvaluechain(allZs6))\n",
    "print (\"X: \", wfisingsm.expectationvaluechain(allXs6))\n",
    "print (\"Y: \", wfisingsm.expectationvaluechain(allYs6))"
   ]
  },
  {
   "cell_type": "code",
   "execution_count": 27,
   "metadata": {},
   "outputs": [
    {
     "name": "stdout",
     "output_type": "stream",
     "text": [
      "[-120.0750118]\n",
      "Z:  1.0\n",
      "X:  3.130866677020969e-05\n",
      "Y:  -3.130866677020969e-05\n"
     ]
    }
   ],
   "source": [
    "Eisingsm, wfisingsm = wavefunctiontools.makeisingground(1, 6, 1.0, 20.0)\n",
    "print (Eisingsm)\n",
    "allZs6 = wavefunctiontools.OperatorChain([Z]*6)\n",
    "allXs6 = wavefunctiontools.OperatorChain([X]*6)\n",
    "allYs6 = wavefunctiontools.OperatorChain([Y]*6)\n",
    "print (\"Z: \", wfisingsm.expectationvaluechain(allZs6))\n",
    "print (\"X: \", wfisingsm.expectationvaluechain(allXs6))\n",
    "print (\"Y: \", wfisingsm.expectationvaluechain(allYs6))"
   ]
  },
  {
   "cell_type": "markdown",
   "metadata": {},
   "source": [
    "### Careful: the next cell may take a long time (~minutes) to run."
   ]
  },
  {
   "cell_type": "code",
   "execution_count": 28,
   "metadata": {},
   "outputs": [],
   "source": [
    "#Here we choose a highish value of h (1.5) to get a less-degenerate ground-state\n",
    "Eising, wfising = wavefunctiontools.makeisingground(4, 4, 1.0, 1.5)"
   ]
  },
  {
   "cell_type": "code",
   "execution_count": 29,
   "metadata": {},
   "outputs": [
    {
     "name": "stdout",
     "output_type": "stream",
     "text": [
      "Z: 0.9999999999999954\n",
      "X: 0.003410220395828884\n",
      "Y: 0.003410220395828884\n"
     ]
    }
   ],
   "source": [
    "allZs = wavefunctiontools.OperatorChain([Z]*16)\n",
    "allXs = wavefunctiontools.OperatorChain([X]*16)\n",
    "allYs = wavefunctiontools.OperatorChain([Y]*16)\n",
    "print (\"Z:\", wfising.expectationvaluechain(allZs))\n",
    "print (\"X:\", wfising.expectationvaluechain(allXs))\n",
    "print (\"Y:\", wfising.expectationvaluechain(allYs))"
   ]
  },
  {
   "cell_type": "code",
   "execution_count": 37,
   "metadata": {},
   "outputs": [
    {
     "name": "stdout",
     "output_type": "stream",
     "text": [
      "[[1 1 1 1]\n",
      " [1 1 1 1]\n",
      " [1 1 1 1]\n",
      " [1 1 1 1]]\n"
     ]
    }
   ],
   "source": [
    "compbasis = ['Z']*16\n",
    "outcome = wfising.cascadedmeasurement(compbasis)\n",
    "\n",
    "print (outcome)"
   ]
  },
  {
   "cell_type": "markdown",
   "metadata": {},
   "source": [
    "## Train the GAN on the output from this function"
   ]
  },
  {
   "cell_type": "code",
   "execution_count": 41,
   "metadata": {},
   "outputs": [
    {
     "name": "stdout",
     "output_type": "stream",
     "text": [
      "[array([[1, 1, 1, 1],\n",
      "       [1, 1, 1, 1],\n",
      "       [1, 1, 1, 1],\n",
      "       [1, 1, 1, 1]]), array([[ 1,  1,  1, -1],\n",
      "       [-1, -1, -1, -1],\n",
      "       [ 1,  1, -1,  1],\n",
      "       [ 1,  1,  1,  1]])]\n"
     ]
    }
   ],
   "source": [
    "def observations(mywf, basis, Ntimes):\n",
    "    return [mywf.cascadedmeasurement(basis) for _ in range(0, Ntimes)]\n",
    "print (observations(wfising, compbasis, 2))"
   ]
  },
  {
   "cell_type": "markdown",
   "metadata": {},
   "source": [
    "## Use these to validate the results"
   ]
  },
  {
   "cell_type": "code",
   "execution_count": 42,
   "metadata": {},
   "outputs": [],
   "source": [
    "def obstoprob(observations):\n",
    "    \"\"\"\n",
    "    Converts a set of observations from cascadedmeasurement into a vector of\n",
    "    probabilites. \n",
    "    \"\"\"\n",
    "    N = observations[0].size\n",
    "    probs = np.zeros(2**N, dtype=np.float64)\n",
    "    probs = probs.reshape([2]*N)\n",
    "    for obs in observations:\n",
    "        obs = np.abs((obs-1))/2 #now up is zero and down is one\n",
    "        #print obs\n",
    "        obidx = np.zeros(16, dtype=int)\n",
    "        #print probs[obidx]\n",
    "        probs[np.ravel(obs).astype(np.int)] += 1 #so we can use it as an index\n",
    "        #print np.ravel(probs)[0], np.ravel(probs)[1]\n",
    "    probs = probs.reshape((2**N))\n",
    "    probs/=len(observations)\n",
    "    return probs\n"
   ]
  },
  {
   "cell_type": "code",
   "execution_count": 43,
   "metadata": {},
   "outputs": [],
   "source": [
    "theseobs = observations(wfising, compbasis, 1000)"
   ]
  },
  {
   "cell_type": "code",
   "execution_count": 44,
   "metadata": {},
   "outputs": [],
   "source": [
    "probs = obstoprob(theseobs)"
   ]
  },
  {
   "cell_type": "code",
   "execution_count": 45,
   "metadata": {},
   "outputs": [
    {
     "name": "stdout",
     "output_type": "stream",
     "text": [
      "[1.    1.    1.    ... 0.437 0.437 0.437]\n",
      "47087.61600000001\n"
     ]
    }
   ],
   "source": [
    "print (probs)\n",
    "print (np.sum(probs))"
   ]
  },
  {
   "cell_type": "code",
   "execution_count": 46,
   "metadata": {},
   "outputs": [],
   "source": [
    "def validateprob(observations, wf):\n",
    "    trueprob = np.array((np.conj(wf.wf)*wf.wf).real, dtype=np.float64)\n",
    "    empprob = obstoprob(observations)\n",
    "    return np.sqrt(np.sum(empprob-trueprob)**2)"
   ]
  },
  {
   "cell_type": "code",
   "execution_count": 47,
   "metadata": {},
   "outputs": [],
   "source": [
    "def validateprobsavemem(observations, wf):\n",
    "    trueprob = np.array((np.conj(wf.wf)*wf.wf).real, dtype=np.float64)\n",
    "    empprob = obstoprob(observations)\n",
    "    thesum=0.0\n",
    "    for i in range(0, trueprob.size):\n",
    "        thesum += (trueprob[i] - empprob[i])**2\n",
    "    return np.sqrt(thesum)[0]"
   ]
  },
  {
   "cell_type": "code",
   "execution_count": 48,
   "metadata": {},
   "outputs": [
    {
     "data": {
      "text/plain": [
       "3085868466.1713614"
      ]
     },
     "execution_count": 48,
     "metadata": {},
     "output_type": "execute_result"
    }
   ],
   "source": [
    "validateprob(theseobs, wfising) \n",
    "#This produces a memory error for me"
   ]
  },
  {
   "cell_type": "markdown",
   "metadata": {},
   "source": [
    "### Make sure obstoprob works"
   ]
  },
  {
   "cell_type": "code",
   "execution_count": 49,
   "metadata": {},
   "outputs": [
    {
     "name": "stdout",
     "output_type": "stream",
     "text": [
      "[0.4661 0.4661 0.9697 0.9697]\n",
      "[0.03333333 0.13333333 0.3        0.53333333]\n"
     ]
    }
   ],
   "source": [
    "testobs = observations(testwf, ['Z']*2, 10000)\n",
    "empprobs = obstoprob(testobs)\n",
    "testprobs = (np.conj(testwf.wf)*testwf.wf).real\n",
    "print (empprobs)\n",
    "print (testprobs)"
   ]
  },
  {
   "cell_type": "code",
   "execution_count": 50,
   "metadata": {},
   "outputs": [
    {
     "name": "stdout",
     "output_type": "stream",
     "text": [
      "194.9597347180533\n",
      "194.9597347180533\n",
      "197.54514766862508\n"
     ]
    }
   ],
   "source": [
    "obs10 = observations(wfising, compbasis, 10)\n",
    "obs100 = observations(wfising, compbasis, 100)\n",
    "print (validateprobsavemem(obs10, wfising))\n",
    "print (validateprobsavemem(obs100, wfising))\n",
    "print (validateprobsavemem(theseobs, wfising))"
   ]
  },
  {
   "cell_type": "code",
   "execution_count": 51,
   "metadata": {},
   "outputs": [],
   "source": [
    "Eising4, wfising4 = wavefunctiontools.makeisingground(2, 2, 1.0, 1.5)\n",
    "compbasis4 = ['Z']*4\n",
    "obs410 = observations(wfising4, compbasis4, 10)\n",
    "obs4100 = observations(wfising4, compbasis4, 100)\n",
    "obs41000 = observations(wfising4, compbasis4, 1000)\n",
    "obs410000 = observations(wfising4, compbasis4, 10000)\n",
    "obs4100000 = observations(wfising4, compbasis4, 100000)\n",
    "d10 = validateprobsavemem(obs410, wfising4)\n",
    "d100 = validateprobsavemem(obs4100, wfising4)\n",
    "d1000 = validateprobsavemem(obs41000, wfising4)\n",
    "d10000 = validateprobsavemem(obs410000, wfising4)\n",
    "d100000 = validateprobsavemem(obs4100000, wfising4)"
   ]
  },
  {
   "cell_type": "code",
   "execution_count": 52,
   "metadata": {},
   "outputs": [
    {
     "data": {
      "text/plain": [
       "[<matplotlib.lines.Line2D at 0x7fe463b35d90>]"
      ]
     },
     "execution_count": 52,
     "metadata": {},
     "output_type": "execute_result"
    },
    {
     "data": {
      "image/png": "[encoded data removed]",
      "text/plain": [
       "<Figure size 432x288 with 1 Axes>"
      ]
     },
     "metadata": {},
     "output_type": "display_data"
    }
   ],
   "source": [
    "plt.loglog([10,100,1000,10000,100000], [d10,d100,d1000,d10000,d100000], marker=\"*\")"
   ]
  },
  {
   "cell_type": "code",
   "execution_count": null,
   "metadata": {},
   "outputs": [],
   "source": []
  }
 ],
 "metadata": {
  "kernelspec": {
   "display_name": "Python 2",
   "language": "python",
   "name": "python2"
  },
  "language_info": {
   "codemirror_mode": {
    "name": "ipython",
    "version": 2
   },
   "file_extension": ".py",
   "mimetype": "text/x-python",
   "name": "python",
   "nbconvert_exporter": "python",
   "pygments_lexer": "ipython2",
   "version": "2.7.14"
  }
 },
 "nbformat": 4,
 "nbformat_minor": 2
}
